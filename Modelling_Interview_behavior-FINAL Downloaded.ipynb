{
 "cells": [
  {
   "cell_type": "code",
   "execution_count": 2,
   "metadata": {},
   "outputs": [
    {
     "ename": "FileNotFoundError",
     "evalue": "File b'Interview.csv' does not exist",
     "output_type": "error",
     "traceback": [
      "\u001b[1;31m---------------------------------------------------------------------------\u001b[0m",
      "\u001b[1;31mFileNotFoundError\u001b[0m                         Traceback (most recent call last)",
      "\u001b[1;32m<ipython-input-2-7d1cd2f00231>\u001b[0m in \u001b[0;36m<module>\u001b[1;34m()\u001b[0m\n\u001b[0;32m      3\u001b[0m \u001b[1;32mimport\u001b[0m \u001b[0mmatplotlib\u001b[0m\u001b[1;33m.\u001b[0m\u001b[0mpyplot\u001b[0m \u001b[1;32mas\u001b[0m \u001b[0mplt\u001b[0m\u001b[1;33m\u001b[0m\u001b[0m\n\u001b[0;32m      4\u001b[0m \u001b[1;33m\u001b[0m\u001b[0m\n\u001b[1;32m----> 5\u001b[1;33m \u001b[0minterviews\u001b[0m \u001b[1;33m=\u001b[0m \u001b[0mpd\u001b[0m\u001b[1;33m.\u001b[0m\u001b[0mread_csv\u001b[0m\u001b[1;33m(\u001b[0m\u001b[1;34m'Interview.csv'\u001b[0m\u001b[1;33m)\u001b[0m\u001b[1;33m\u001b[0m\u001b[0m\n\u001b[0m\u001b[0;32m      6\u001b[0m \u001b[0minterviews\u001b[0m\u001b[1;33m.\u001b[0m\u001b[0mhead\u001b[0m\u001b[1;33m(\u001b[0m\u001b[1;33m)\u001b[0m\u001b[1;33m\u001b[0m\u001b[0m\n",
      "\u001b[1;32m~\\Anaconda3\\lib\\site-packages\\pandas\\io\\parsers.py\u001b[0m in \u001b[0;36mparser_f\u001b[1;34m(filepath_or_buffer, sep, delimiter, header, names, index_col, usecols, squeeze, prefix, mangle_dupe_cols, dtype, engine, converters, true_values, false_values, skipinitialspace, skiprows, nrows, na_values, keep_default_na, na_filter, verbose, skip_blank_lines, parse_dates, infer_datetime_format, keep_date_col, date_parser, dayfirst, iterator, chunksize, compression, thousands, decimal, lineterminator, quotechar, quoting, escapechar, comment, encoding, dialect, tupleize_cols, error_bad_lines, warn_bad_lines, skipfooter, skip_footer, doublequote, delim_whitespace, as_recarray, compact_ints, use_unsigned, low_memory, buffer_lines, memory_map, float_precision)\u001b[0m\n\u001b[0;32m    653\u001b[0m                     skip_blank_lines=skip_blank_lines)\n\u001b[0;32m    654\u001b[0m \u001b[1;33m\u001b[0m\u001b[0m\n\u001b[1;32m--> 655\u001b[1;33m         \u001b[1;32mreturn\u001b[0m \u001b[0m_read\u001b[0m\u001b[1;33m(\u001b[0m\u001b[0mfilepath_or_buffer\u001b[0m\u001b[1;33m,\u001b[0m \u001b[0mkwds\u001b[0m\u001b[1;33m)\u001b[0m\u001b[1;33m\u001b[0m\u001b[0m\n\u001b[0m\u001b[0;32m    656\u001b[0m \u001b[1;33m\u001b[0m\u001b[0m\n\u001b[0;32m    657\u001b[0m     \u001b[0mparser_f\u001b[0m\u001b[1;33m.\u001b[0m\u001b[0m__name__\u001b[0m \u001b[1;33m=\u001b[0m \u001b[0mname\u001b[0m\u001b[1;33m\u001b[0m\u001b[0m\n",
      "\u001b[1;32m~\\Anaconda3\\lib\\site-packages\\pandas\\io\\parsers.py\u001b[0m in \u001b[0;36m_read\u001b[1;34m(filepath_or_buffer, kwds)\u001b[0m\n\u001b[0;32m    403\u001b[0m \u001b[1;33m\u001b[0m\u001b[0m\n\u001b[0;32m    404\u001b[0m     \u001b[1;31m# Create the parser.\u001b[0m\u001b[1;33m\u001b[0m\u001b[1;33m\u001b[0m\u001b[0m\n\u001b[1;32m--> 405\u001b[1;33m     \u001b[0mparser\u001b[0m \u001b[1;33m=\u001b[0m \u001b[0mTextFileReader\u001b[0m\u001b[1;33m(\u001b[0m\u001b[0mfilepath_or_buffer\u001b[0m\u001b[1;33m,\u001b[0m \u001b[1;33m**\u001b[0m\u001b[0mkwds\u001b[0m\u001b[1;33m)\u001b[0m\u001b[1;33m\u001b[0m\u001b[0m\n\u001b[0m\u001b[0;32m    406\u001b[0m \u001b[1;33m\u001b[0m\u001b[0m\n\u001b[0;32m    407\u001b[0m     \u001b[1;32mif\u001b[0m \u001b[0mchunksize\u001b[0m \u001b[1;32mor\u001b[0m \u001b[0miterator\u001b[0m\u001b[1;33m:\u001b[0m\u001b[1;33m\u001b[0m\u001b[0m\n",
      "\u001b[1;32m~\\Anaconda3\\lib\\site-packages\\pandas\\io\\parsers.py\u001b[0m in \u001b[0;36m__init__\u001b[1;34m(self, f, engine, **kwds)\u001b[0m\n\u001b[0;32m    762\u001b[0m             \u001b[0mself\u001b[0m\u001b[1;33m.\u001b[0m\u001b[0moptions\u001b[0m\u001b[1;33m[\u001b[0m\u001b[1;34m'has_index_names'\u001b[0m\u001b[1;33m]\u001b[0m \u001b[1;33m=\u001b[0m \u001b[0mkwds\u001b[0m\u001b[1;33m[\u001b[0m\u001b[1;34m'has_index_names'\u001b[0m\u001b[1;33m]\u001b[0m\u001b[1;33m\u001b[0m\u001b[0m\n\u001b[0;32m    763\u001b[0m \u001b[1;33m\u001b[0m\u001b[0m\n\u001b[1;32m--> 764\u001b[1;33m         \u001b[0mself\u001b[0m\u001b[1;33m.\u001b[0m\u001b[0m_make_engine\u001b[0m\u001b[1;33m(\u001b[0m\u001b[0mself\u001b[0m\u001b[1;33m.\u001b[0m\u001b[0mengine\u001b[0m\u001b[1;33m)\u001b[0m\u001b[1;33m\u001b[0m\u001b[0m\n\u001b[0m\u001b[0;32m    765\u001b[0m \u001b[1;33m\u001b[0m\u001b[0m\n\u001b[0;32m    766\u001b[0m     \u001b[1;32mdef\u001b[0m \u001b[0mclose\u001b[0m\u001b[1;33m(\u001b[0m\u001b[0mself\u001b[0m\u001b[1;33m)\u001b[0m\u001b[1;33m:\u001b[0m\u001b[1;33m\u001b[0m\u001b[0m\n",
      "\u001b[1;32m~\\Anaconda3\\lib\\site-packages\\pandas\\io\\parsers.py\u001b[0m in \u001b[0;36m_make_engine\u001b[1;34m(self, engine)\u001b[0m\n\u001b[0;32m    983\u001b[0m     \u001b[1;32mdef\u001b[0m \u001b[0m_make_engine\u001b[0m\u001b[1;33m(\u001b[0m\u001b[0mself\u001b[0m\u001b[1;33m,\u001b[0m \u001b[0mengine\u001b[0m\u001b[1;33m=\u001b[0m\u001b[1;34m'c'\u001b[0m\u001b[1;33m)\u001b[0m\u001b[1;33m:\u001b[0m\u001b[1;33m\u001b[0m\u001b[0m\n\u001b[0;32m    984\u001b[0m         \u001b[1;32mif\u001b[0m \u001b[0mengine\u001b[0m \u001b[1;33m==\u001b[0m \u001b[1;34m'c'\u001b[0m\u001b[1;33m:\u001b[0m\u001b[1;33m\u001b[0m\u001b[0m\n\u001b[1;32m--> 985\u001b[1;33m             \u001b[0mself\u001b[0m\u001b[1;33m.\u001b[0m\u001b[0m_engine\u001b[0m \u001b[1;33m=\u001b[0m \u001b[0mCParserWrapper\u001b[0m\u001b[1;33m(\u001b[0m\u001b[0mself\u001b[0m\u001b[1;33m.\u001b[0m\u001b[0mf\u001b[0m\u001b[1;33m,\u001b[0m \u001b[1;33m**\u001b[0m\u001b[0mself\u001b[0m\u001b[1;33m.\u001b[0m\u001b[0moptions\u001b[0m\u001b[1;33m)\u001b[0m\u001b[1;33m\u001b[0m\u001b[0m\n\u001b[0m\u001b[0;32m    986\u001b[0m         \u001b[1;32melse\u001b[0m\u001b[1;33m:\u001b[0m\u001b[1;33m\u001b[0m\u001b[0m\n\u001b[0;32m    987\u001b[0m             \u001b[1;32mif\u001b[0m \u001b[0mengine\u001b[0m \u001b[1;33m==\u001b[0m \u001b[1;34m'python'\u001b[0m\u001b[1;33m:\u001b[0m\u001b[1;33m\u001b[0m\u001b[0m\n",
      "\u001b[1;32m~\\Anaconda3\\lib\\site-packages\\pandas\\io\\parsers.py\u001b[0m in \u001b[0;36m__init__\u001b[1;34m(self, src, **kwds)\u001b[0m\n\u001b[0;32m   1603\u001b[0m         \u001b[0mkwds\u001b[0m\u001b[1;33m[\u001b[0m\u001b[1;34m'allow_leading_cols'\u001b[0m\u001b[1;33m]\u001b[0m \u001b[1;33m=\u001b[0m \u001b[0mself\u001b[0m\u001b[1;33m.\u001b[0m\u001b[0mindex_col\u001b[0m \u001b[1;32mis\u001b[0m \u001b[1;32mnot\u001b[0m \u001b[1;32mFalse\u001b[0m\u001b[1;33m\u001b[0m\u001b[0m\n\u001b[0;32m   1604\u001b[0m \u001b[1;33m\u001b[0m\u001b[0m\n\u001b[1;32m-> 1605\u001b[1;33m         \u001b[0mself\u001b[0m\u001b[1;33m.\u001b[0m\u001b[0m_reader\u001b[0m \u001b[1;33m=\u001b[0m \u001b[0mparsers\u001b[0m\u001b[1;33m.\u001b[0m\u001b[0mTextReader\u001b[0m\u001b[1;33m(\u001b[0m\u001b[0msrc\u001b[0m\u001b[1;33m,\u001b[0m \u001b[1;33m**\u001b[0m\u001b[0mkwds\u001b[0m\u001b[1;33m)\u001b[0m\u001b[1;33m\u001b[0m\u001b[0m\n\u001b[0m\u001b[0;32m   1606\u001b[0m \u001b[1;33m\u001b[0m\u001b[0m\n\u001b[0;32m   1607\u001b[0m         \u001b[1;31m# XXX\u001b[0m\u001b[1;33m\u001b[0m\u001b[1;33m\u001b[0m\u001b[0m\n",
      "\u001b[1;32mpandas/_libs/parsers.pyx\u001b[0m in \u001b[0;36mpandas._libs.parsers.TextReader.__cinit__ (pandas\\_libs\\parsers.c:4209)\u001b[1;34m()\u001b[0m\n",
      "\u001b[1;32mpandas/_libs/parsers.pyx\u001b[0m in \u001b[0;36mpandas._libs.parsers.TextReader._setup_parser_source (pandas\\_libs\\parsers.c:8873)\u001b[1;34m()\u001b[0m\n",
      "\u001b[1;31mFileNotFoundError\u001b[0m: File b'Interview.csv' does not exist"
     ]
    }
   ],
   "source": [
    "import numpy as np # linear algebra\n",
    "import pandas as pd \n",
    "import matplotlib.pyplot as plt\n",
    "\n",
    "interviews = pd.read_csv('Interview.csv')\n",
    "interviews.head()"
   ]
  },
  {
   "cell_type": "code",
   "execution_count": null,
   "metadata": {},
   "outputs": [],
   "source": [
    "#Original Column Names\n",
    "interviews.columns"
   ]
  },
  {
   "cell_type": "code",
   "execution_count": null,
   "metadata": {
    "collapsed": true
   },
   "outputs": [],
   "source": [
    "interviews.tail()\n",
    "interviews.drop(1233,inplace=True)"
   ]
  },
  {
   "cell_type": "code",
   "execution_count": null,
   "metadata": {},
   "outputs": [],
   "source": [
    "interviews"
   ]
  },
  {
   "cell_type": "code",
   "execution_count": null,
   "metadata": {},
   "outputs": [],
   "source": [
    "#dropping some unwanted columns\n",
    "interviews.drop(['Unnamed: 23', 'Unnamed: 24', 'Unnamed: 25', 'Unnamed: 26', 'Unnamed: 27', 'Name(Cand ID)'], \n",
    "                  axis=1, inplace=True)\n",
    "interviews"
   ]
  },
  {
   "cell_type": "code",
   "execution_count": null,
   "metadata": {
    "collapsed": true
   },
   "outputs": [],
   "source": [
    "newnames = {\n",
    "    'Have you obtained the necessary permission to start at the required time':'necessary_permission',\n",
    "    'Hope there will be no unscheduled meetings':'unscheduled_meetings',\n",
    "    'Can I Call you three hours before the interview and follow up on your attendance for the interview':'followup_3hours_call',\n",
    "    'Can I have an alternative number/ desk number. I assure you that I will not trouble you too much':'alternative_number',\n",
    "    'Have you taken a printout of your updated resume. Have you read the JD and understood the same':'resume_printout_JD',\n",
    "    'Are you clear with the venue details and the landmark.':'venue_details',\n",
    "    'Has the call letter been shared':'shared_call_letter',\n",
    "    'Nature of Skillset':'skillset',\n",
    "    'Position to be closed':'position'\n",
    "}\n",
    "interviews.rename(columns=newnames, inplace=True)"
   ]
  },
  {
   "cell_type": "code",
   "execution_count": null,
   "metadata": {},
   "outputs": [],
   "source": [
    "#New simplified column names\n",
    "interviews.columns"
   ]
  },
  {
   "cell_type": "code",
   "execution_count": null,
   "metadata": {},
   "outputs": [],
   "source": [
    "#Now cleaning up range of responses in individual fields\n",
    "interviews.loc[interviews['Observed Attendance']=='NO','Observed Attendance']='No'\n",
    "interviews.loc[interviews['Observed Attendance']=='No ','Observed Attendance']='No'\n",
    "interviews.loc[interviews['Observed Attendance']=='no ','Observed Attendance']='No'\n",
    "interviews.loc[interviews['Observed Attendance']=='no','Observed Attendance']='No'\n",
    "interviews['Observed Attendance'].value_counts()"
   ]
  },
  {
   "cell_type": "code",
   "execution_count": null,
   "metadata": {},
   "outputs": [],
   "source": [
    "interviews.loc[interviews['Observed Attendance']=='yes','Observed Attendance']='Yes'\n",
    "interviews['Observed Attendance'].value_counts()"
   ]
  },
  {
   "cell_type": "code",
   "execution_count": null,
   "metadata": {},
   "outputs": [],
   "source": [
    "#confirmed you have to run the previous two lines twice to remove the lowercase 'yes' response\n",
    "interviews.loc[interviews['Observed Attendance']=='yes ','Observed Attendance']='Yes'\n",
    "interviews['Observed Attendance'].value_counts()\n"
   ]
  },
  {
   "cell_type": "code",
   "execution_count": null,
   "metadata": {},
   "outputs": [],
   "source": [
    "interviews['Expected Attendance'].value_counts()\n",
    "interviews.loc[interviews['Expected Attendance']=='No ','Expected Attendance']='No'\n",
    "interviews.loc[interviews['Expected Attendance']=='NO','Expected Attendance']='No'\n",
    "interviews.loc[interviews['Expected Attendance']=='Uncertain','Expected Attendance']='No'\n",
    "interviews.loc[interviews['Expected Attendance']=='yes','Expected Attendance']='Yes'\n",
    "interviews['Expected Attendance'].value_counts()"
   ]
  },
  {
   "cell_type": "code",
   "execution_count": null,
   "metadata": {
    "collapsed": true
   },
   "outputs": [],
   "source": [
    "interviews.loc[interviews['Expected Attendance']=='11:00 AM','Expected Attendance']='Yes'\n",
    "interviews.loc[interviews['Expected Attendance']=='10.30 Am','Expected Attendance']='Yes'"
   ]
  },
  {
   "cell_type": "code",
   "execution_count": null,
   "metadata": {},
   "outputs": [],
   "source": [
    "interviews['Expected Attendance'].value_counts()"
   ]
  },
  {
   "cell_type": "code",
   "execution_count": null,
   "metadata": {},
   "outputs": [],
   "source": [
    "interviews['Interview Type'].value_counts()"
   ]
  },
  {
   "cell_type": "code",
   "execution_count": null,
   "metadata": {},
   "outputs": [],
   "source": [
    "#changing code to leave 3 interview types:Scheduled, Walk In, and Scheduled Walk In\n",
    "interviews.loc[interviews['Interview Type']=='Scheduled Walkin','Interview Type']='Scheduled Walk-In'\n",
    "interviews.loc[interviews['Interview Type']=='Sceduled walkin','Interview Type']='Scheduled Walk-In'\n",
    "interviews.loc[interviews['Interview Type']=='Scheduled Walk In','Interview Type']='Scheduled Walk-In'\n",
    "interviews.loc[interviews['Interview Type']=='Walkin ','Interview Type']='Walk-In'\n",
    "interviews.loc[interviews['Interview Type']=='Walkin','Interview Type']='Walk-In'\n",
    "interviews['Interview Type'].value_counts()"
   ]
  },
  {
   "cell_type": "code",
   "execution_count": null,
   "metadata": {},
   "outputs": [],
   "source": [
    "interviews['shared_call_letter'].value_counts()"
   ]
  },
  {
   "cell_type": "code",
   "execution_count": null,
   "metadata": {},
   "outputs": [],
   "source": [
    "#multiple blocks like this one didn't work because of double equal sign. So I guess it was comparing them, instead of assigning\n",
    "interviews.loc[interviews['shared_call_letter']=='yes','shared_call_letter']=='Yes'\n",
    "interviews.loc[interviews['shared_call_letter']=='Na','shared_call_letter']=='No'\n",
    "interviews.loc[interviews['shared_call_letter']=='Not Sure','shared_call_letter']=='No'\n",
    "interviews.loc[interviews['shared_call_letter']=='Need To Check','shared_call_letter']=='No'\n",
    "interviews.loc[interviews['shared_call_letter']=='Not yet','shared_call_letter']=='No'\n",
    "interviews.loc[interviews['shared_call_letter']=='Yet to Check','shared_call_letter']=='No'\n",
    "interviews.loc[interviews['shared_call_letter']=='na','shared_call_letter']=='No'\n",
    "interviews.loc[interviews['shared_call_letter']=='Havent Checked','shared_call_letter']=='No'\n",
    "interviews.loc[interviews['shared_call_letter']=='no','shared_call_letter']=='No'\n",
    "interviews['shared_call_letter'].value_counts()"
   ]
  },
  {
   "cell_type": "code",
   "execution_count": null,
   "metadata": {
    "collapsed": true
   },
   "outputs": [],
   "source": [
    "interviews.loc[interviews['shared_call_letter']=='yes','shared_call_letter']='Yes'\n",
    "interviews.loc[interviews['shared_call_letter']=='Na','shared_call_letter']='No/Need to Check'\n",
    "interviews.loc[interviews['shared_call_letter']=='Not yet','shared_call_letter']='No/Need to Check'\n",
    "interviews.loc[interviews['shared_call_letter']=='Not Sure','shared_call_letter']='No/Need to Check'\n",
    "interviews.loc[interviews['shared_call_letter']=='Need To Check','shared_call_letter']='No/Need to Check'\n",
    "interviews.loc[interviews['shared_call_letter']=='Yet to Check','shared_call_letter']='No/Need to Check'\n",
    "interviews.loc[interviews['shared_call_letter']=='Havent Checked','shared_call_letter']='No/Need to Check'\n",
    "interviews.loc[interviews['shared_call_letter']=='no','shared_call_letter']='No/Need to Check'\n",
    "interviews.loc[interviews['shared_call_letter']=='na','shared_call_letter']='No/Need to Check'\n",
    "interviews.loc[interviews['shared_call_letter']=='Not sure','shared_call_letter']='No/Need to Check'\n",
    "interviews.loc[interviews['shared_call_letter']=='No','shared_call_letter'] = 'No/Need to Check'"
   ]
  },
  {
   "cell_type": "code",
   "execution_count": null,
   "metadata": {},
   "outputs": [],
   "source": [
    "interviews['shared_call_letter'].value_counts()"
   ]
  },
  {
   "cell_type": "code",
   "execution_count": null,
   "metadata": {},
   "outputs": [],
   "source": [
    "interviews.head()"
   ]
  },
  {
   "cell_type": "code",
   "execution_count": null,
   "metadata": {},
   "outputs": [],
   "source": [
    "interviews['venue_details'].value_counts()"
   ]
  },
  {
   "cell_type": "code",
   "execution_count": null,
   "metadata": {
    "collapsed": true
   },
   "outputs": [],
   "source": [
    "interviews.loc[interviews['venue_details']=='yes','venue_details']='Yes'\n",
    "interviews.loc[interviews['venue_details']=='Na','venue_details']='No'\n",
    "interviews.loc[interviews['venue_details']=='No- I need to check','venue_details']='No'\n",
    "interviews.loc[interviews['venue_details']=='no','venue_details']='No'\n",
    "interviews.loc[interviews['venue_details']=='na','venue_details']='No'"
   ]
  },
  {
   "cell_type": "code",
   "execution_count": null,
   "metadata": {},
   "outputs": [],
   "source": [
    "interviews['venue_details'].value_counts()"
   ]
  },
  {
   "cell_type": "code",
   "execution_count": null,
   "metadata": {},
   "outputs": [],
   "source": [
    "interviews['resume_printout_JD'].value_counts()"
   ]
  },
  {
   "cell_type": "code",
   "execution_count": null,
   "metadata": {
    "collapsed": true
   },
   "outputs": [],
   "source": [
    "interviews.loc[interviews['resume_printout_JD']=='yes','resume_printout_JD']='Yes'\n",
    "interviews.loc[interviews['resume_printout_JD']=='Na','resume_printout_JD']='No'\n",
    "interviews.loc[interviews['resume_printout_JD']=='No- Will take it soon','resume_printout_JD']='No'\n",
    "interviews.loc[interviews['resume_printout_JD']=='No','resume_printout_JD']='No'\n",
    "interviews.loc[interviews['resume_printout_JD']=='Not yet','resume_printout_JD']='No'\n",
    "interviews.loc[interviews['resume_printout_JD']=='Not Yet','resume_printout_JD']='No'\n",
    "interviews.loc[interviews['resume_printout_JD']=='na','resume_printout_JD']='No'\n",
    "interviews.loc[interviews['resume_printout_JD']=='No- will take it soon','resume_printout_JD']='No'"
   ]
  },
  {
   "cell_type": "code",
   "execution_count": null,
   "metadata": {},
   "outputs": [],
   "source": [
    "interviews['resume_printout_JD'].value_counts()"
   ]
  },
  {
   "cell_type": "code",
   "execution_count": null,
   "metadata": {},
   "outputs": [],
   "source": [
    "interviews['alternative_number'].value_counts()"
   ]
  },
  {
   "cell_type": "code",
   "execution_count": null,
   "metadata": {
    "collapsed": true
   },
   "outputs": [],
   "source": [
    "interviews.loc[interviews['alternative_number']=='yes','alternative_number']='Yes'\n",
    "interviews.loc[interviews['alternative_number']=='Na','alternative_number']='No'\n",
    "interviews.loc[interviews['alternative_number']=='No- I have only thi number','alternative_number']='No'\n",
    "interviews.loc[interviews['alternative_number']=='No','alternative_number']='No'\n",
    "interviews.loc[interviews['alternative_number']=='na','alternative_number']='No'\n",
    "interviews.loc[interviews['alternative_number']=='No I have only thi number','alternative_number']='No'"
   ]
  },
  {
   "cell_type": "code",
   "execution_count": null,
   "metadata": {},
   "outputs": [],
   "source": [
    "interviews['alternative_number'].value_counts()"
   ]
  },
  {
   "cell_type": "code",
   "execution_count": null,
   "metadata": {},
   "outputs": [],
   "source": [
    "interviews['followup_3hours_call'].value_counts()"
   ]
  },
  {
   "cell_type": "code",
   "execution_count": null,
   "metadata": {
    "collapsed": true
   },
   "outputs": [],
   "source": [
    "interviews.loc[interviews['followup_3hours_call']=='yes','followup_3hours_call']='Yes'\n",
    "interviews.loc[interviews['followup_3hours_call']=='Na','followup_3hours_call']='No'\n",
    "interviews.loc[interviews['followup_3hours_call']=='No Dont','followup_3hours_call']='No'\n",
    "interviews.loc[interviews['followup_3hours_call']=='No','followup_3hours_call']='No'\n"
   ]
  },
  {
   "cell_type": "code",
   "execution_count": null,
   "metadata": {},
   "outputs": [],
   "source": [
    "interviews['followup_3hours_call'].value_counts()"
   ]
  },
  {
   "cell_type": "code",
   "execution_count": null,
   "metadata": {},
   "outputs": [],
   "source": [
    "interviews['unscheduled_meetings'].value_counts()"
   ]
  },
  {
   "cell_type": "code",
   "execution_count": null,
   "metadata": {
    "collapsed": true
   },
   "outputs": [],
   "source": [
    "interviews.loc[interviews['unscheduled_meetings']=='yes','unscheduled_meetings']='Yes'\n",
    "interviews.loc[interviews['unscheduled_meetings']=='Na','unscheduled_meetings']='No'\n",
    "interviews.loc[interviews['unscheduled_meetings']=='Not Sure','unscheduled_meetings']='No'\n",
    "interviews.loc[interviews['unscheduled_meetings']=='Not sure','unscheduled_meetings']='No'\n",
    "interviews.loc[interviews['unscheduled_meetings']=='cant say','unscheduled_meetings']='No'"
   ]
  },
  {
   "cell_type": "code",
   "execution_count": null,
   "metadata": {
    "collapsed": true
   },
   "outputs": [],
   "source": [
    "interviews.loc[interviews['unscheduled_meetings']=='cant Say','unscheduled_meetings']='No'"
   ]
  },
  {
   "cell_type": "code",
   "execution_count": null,
   "metadata": {},
   "outputs": [],
   "source": [
    "interviews['unscheduled_meetings'].value_counts()"
   ]
  },
  {
   "cell_type": "code",
   "execution_count": null,
   "metadata": {},
   "outputs": [],
   "source": [
    "interviews['necessary_permission'].value_counts()"
   ]
  },
  {
   "cell_type": "code",
   "execution_count": null,
   "metadata": {
    "collapsed": true
   },
   "outputs": [],
   "source": [
    "interviews.loc[interviews['necessary_permission']=='yes','necessary_permission']='Yes'\n",
    "interviews.loc[interviews['necessary_permission']=='Na','necessary_permission']='No'\n",
    "interviews.loc[interviews['necessary_permission']=='Not yet','necessary_permission']='No'\n",
    "interviews.loc[interviews['necessary_permission']=='Yet to confirm','necessary_permission']='No'\n",
    "interviews.loc[interviews['necessary_permission']=='NO','necessary_permission']='No'"
   ]
  },
  {
   "cell_type": "code",
   "execution_count": null,
   "metadata": {},
   "outputs": [],
   "source": [
    "interviews['necessary_permission'].value_counts()"
   ]
  },
  {
   "cell_type": "code",
   "execution_count": null,
   "metadata": {},
   "outputs": [],
   "source": [
    "interviews.head()"
   ]
  },
  {
   "cell_type": "code",
   "execution_count": null,
   "metadata": {},
   "outputs": [],
   "source": [
    "interviews['Candidate Job Location'].value_counts()"
   ]
  },
  {
   "cell_type": "code",
   "execution_count": null,
   "metadata": {},
   "outputs": [],
   "source": [
    "interviews['Candidate Current Location'].value_counts()"
   ]
  },
  {
   "cell_type": "code",
   "execution_count": null,
   "metadata": {
    "collapsed": true
   },
   "outputs": [],
   "source": [
    "interviews.loc[interviews['Candidate Current Location']=='chennai','Candidate Current Location']='Chennai'\n",
    "interviews.loc[interviews['Candidate Current Location']=='CHENNAI','Candidate Current Location']='Chennai'\n",
    "interviews.loc[interviews['Candidate Current Location']=='chennai ','Candidate Current Location']='Chennai'\n"
   ]
  },
  {
   "cell_type": "code",
   "execution_count": null,
   "metadata": {},
   "outputs": [],
   "source": [
    "interviews['Candidate Current Location'].value_counts()"
   ]
  },
  {
   "cell_type": "code",
   "execution_count": null,
   "metadata": {},
   "outputs": [],
   "source": [
    "interviews['Location'].value_counts()"
   ]
  },
  {
   "cell_type": "code",
   "execution_count": null,
   "metadata": {
    "collapsed": true
   },
   "outputs": [],
   "source": [
    "interviews.loc[interviews['Location']=='chennai','Location']='Chennai'\n",
    "interviews.loc[interviews['Location']=='CHENNAI','Location']='Chennai'\n",
    "interviews.loc[interviews['Location']=='chennai ','Location']='Chennai'\n",
    "interviews.loc[interviews['Location']=='Gurgaonr ','Location']='Gurgaon'"
   ]
  },
  {
   "cell_type": "code",
   "execution_count": null,
   "metadata": {},
   "outputs": [],
   "source": [
    "interviews['Location'].value_counts()"
   ]
  },
  {
   "cell_type": "code",
   "execution_count": null,
   "metadata": {
    "collapsed": true
   },
   "outputs": [],
   "source": [
    "interviews.loc[interviews['Location']=='Gurgaonr','Location']='Gurgaon'"
   ]
  },
  {
   "cell_type": "code",
   "execution_count": null,
   "metadata": {},
   "outputs": [],
   "source": [
    "interviews['Location'].value_counts()"
   ]
  },
  {
   "cell_type": "code",
   "execution_count": null,
   "metadata": {},
   "outputs": [],
   "source": [
    "interviews['skillset'].value_counts()\n",
    "#way to messy to deal with. Don't think we should delete it, but don't think it'll be included in the models"
   ]
  },
  {
   "cell_type": "code",
   "execution_count": null,
   "metadata": {},
   "outputs": [],
   "source": [
    "interviews['position'].value_counts()"
   ]
  },
  {
   "cell_type": "code",
   "execution_count": null,
   "metadata": {
    "collapsed": true
   },
   "outputs": [],
   "source": [
    "#Simplifying position to Routine vs Niche\n",
    "interviews.loc[interviews['position']=='Dot Net','position']='Niche'\n",
    "interviews.loc[interviews['position']=='Trade Finance','position']='Niche'\n",
    "interviews.loc[interviews['position']=='AML','position']='Niche'\n",
    "interviews.loc[interviews['position']=='Selenium testing','position']='Niche'\n",
    "interviews.loc[interviews['position']=='Production- Sterile','position']='Niche'"
   ]
  },
  {
   "cell_type": "code",
   "execution_count": null,
   "metadata": {},
   "outputs": [],
   "source": [
    "interviews['position'].value_counts()"
   ]
  },
  {
   "cell_type": "code",
   "execution_count": null,
   "metadata": {},
   "outputs": [],
   "source": [
    "#writing our cleaned dataset to csv\n",
    "type(interviews)"
   ]
  },
  {
   "cell_type": "code",
   "execution_count": null,
   "metadata": {
    "collapsed": true
   },
   "outputs": [],
   "source": [
    "#removed indexes from left side of each row\n",
    "interviews.to_csv('CleanedInterviews - FINAL.csv', encoding='utf-8', index=False)"
   ]
  },
  {
   "cell_type": "code",
   "execution_count": null,
   "metadata": {},
   "outputs": [],
   "source": [
    "from sklearn import datasets, linear_model\n",
    "from sklearn.metrics import accuracy_score \n",
    "import pandas as pd \n",
    "import numpy as np\n",
    "from sklearn.metrics import r2_score\n",
    "import matplotlib.pyplot as plt\n",
    "from sklearn.preprocessing import LabelEncoder\n",
    "import statsmodels.api as sm\n",
    "\n",
    "interviews = interviews.dropna()\n",
    "\n",
    "interviews = interviews.apply(LabelEncoder().fit_transform)\n",
    "from sklearn.linear_model import LogisticRegression\n",
    "Y_train=interviews['Observed Attendance']\n",
    "\n",
    "del interviews['Observed Attendance']\n",
    "\n",
    "X_train = interviews\n",
    "interviews.head()\n",
    "\n",
    "from sklearn.model_selection import train_test_split\n",
    "X_train, X_test, y_train, y_test = train_test_split(X_train, Y_train, test_size=0.35, random_state=42)\n",
    "#print (X_train.shape, y_train.shape)\n",
    "#print (X_test.shape, y_test.shape)\n",
    "#print(X_test)\n",
    "\n",
    "############################################################\n",
    "\n",
    "#Random Forest implementation\n",
    "\n",
    "############################################################\n",
    "\n",
    "from sklearn.ensemble import RandomForestClassifier\n",
    "randomf = RandomForestClassifier(n_jobs=2, random_state=0)\n",
    "randomf.fit(X_train,y_train)\n",
    "score = randomf.score(X_test, y_test)\n",
    "prediction_randomForest = randomf.predict(X_test)\n",
    "prediction_randomForest_train=randomf.predict(X_train)\n",
    "print('Train/Test split results:')\n",
    "print(\" Random Forest score is %2.3f\" % accuracy_score(y_train, prediction_randomForest_train))\n",
    "\n",
    "############################################################\n",
    "\n",
    "# Logistic Regression implementation\n",
    "\n",
    "############################################################\n",
    "lm = linear_model.LinearRegression()\n",
    "model = lm.fit(X_train, y_train)\n",
    "predictions = lm.predict(X_test)\n",
    "log=LogisticRegression()\n",
    "result  = log.fit(X_train,y_train)\n",
    "score = log.score(X_test, y_test)\n",
    "print(\"Logistic Regression Score %2.3f\" % score)\n"
   ]
  },
  {
   "cell_type": "code",
   "execution_count": null,
   "metadata": {},
   "outputs": [],
   "source": [
    "import pandas as pd\n",
    "import numpy as np\n",
    "from sklearn.preprocessing import LabelEncoder\n",
    "from sklearn.tree import DecisionTreeClassifier, export_graphviz\n",
    "from sklearn.model_selection import train_test_split, cross_val_score\n",
    "df = pd.read_csv('CleanedInterviews-FINAL.csv')\n",
    "print(len(df)) #total number of rows"
   ]
  },
  {
   "cell_type": "code",
   "execution_count": null,
   "metadata": {},
   "outputs": [],
   "source": [
    "#Using label encoder to label variables\n",
    "label = LabelEncoder()\n",
    "#selecting the subset of our dataset to be features in DT. \n",
    "cols = df.columns\n",
    "print(cols)\n",
    "print(type(cols))\n",
    "\n",
    "#Choosing specific columns. Starting with the easy ones first\n",
    "chosenFeatures = ['Client name', 'Industry', 'Location', 'position',\n",
    "        'Interview Type', 'Gender', 'necessary_permission',\n",
    "       'unscheduled_meetings', 'followup_3hours_call', 'alternative_number',\n",
    "       'resume_printout_JD', 'venue_details', 'shared_call_letter',\n",
    "       'Expected Attendance', 'Marital Status']\n"
   ]
  },
  {
   "cell_type": "code",
   "execution_count": null,
   "metadata": {},
   "outputs": [],
   "source": [
    "#need to convert to list, because we can converst list to integers\n",
    "#cols = chosenColumns.tolist()\n",
    "#initializing new empty Pandas DataFrame\n",
    "indepVars = pd.DataFrame()\n",
    "\n",
    "#Interating over our list to append columns to new DataFrame\n",
    "for column in chosenFeatures:\n",
    "    #print(column)\n",
    "    #doing a transformation for each column in cols to convert from type 'object' to 'string'\n",
    "    indepVars[column] = label.fit_transform(df[column].astype('str'))\n",
    "    \n",
    "print(indepVars.head(5))"
   ]
  },
  {
   "cell_type": "code",
   "execution_count": null,
   "metadata": {},
   "outputs": [],
   "source": [
    "#First creating dependent and independent variables as own objects\n",
    "depVar = pd.DataFrame()\n",
    "for column in ['Observed Attendance']:\n",
    "    #print(column)\n",
    "    #doing a transformation for each column in cols to convert from type 'object' to 'string'\n",
    "    depVar[column] = label.fit_transform(df[column].astype('str'))\n",
    "Y = depVar\n",
    "X = indepVars\n",
    "print(X.head(5))\n",
    "print(Y.head(5))"
   ]
  },
  {
   "cell_type": "code",
   "execution_count": null,
   "metadata": {},
   "outputs": [],
   "source": [
    "#Seeing if each column has the expected number of levels (to account for NAs)\n",
    "for col in chosenFeatures:\n",
    "    print(indepVars[col].value_counts())"
   ]
  },
  {
   "cell_type": "code",
   "execution_count": null,
   "metadata": {},
   "outputs": [],
   "source": [
    "#now comparing to value_counts of original columns\n",
    "for col in chosenFeatures:\n",
    "    print(df[col].value_counts())"
   ]
  },
  {
   "cell_type": "code",
   "execution_count": null,
   "metadata": {},
   "outputs": [],
   "source": [
    "#Dropping NAs from original df and rerunning the labelEncoding\n",
    "noMissing = df.dropna()\n",
    "print(len(noMissing))\n",
    "indepVars = pd.DataFrame()\n",
    "\n",
    "#Interating over our list to append columns to new DataFrame\n",
    "for column in chosenFeatures:\n",
    "    #print(column)\n",
    "    #doing a transformation for each column in cols to convert from type 'object' to 'string'\n",
    "    indepVars[column] = label.fit_transform(noMissing[column].astype('str'))\n",
    "    \n",
    "\n",
    "depVar = pd.DataFrame()\n",
    "for column in ['Observed Attendance']:\n",
    "    #print(column)\n",
    "    #doing a transformation for each column in cols to convert from type 'object' to 'string'\n",
    "    depVar[column] = label.fit_transform(noMissing[column].astype('str'))\n",
    "Y = depVar\n",
    "X = indepVars"
   ]
  },
  {
   "cell_type": "code",
   "execution_count": null,
   "metadata": {},
   "outputs": [],
   "source": [
    "##Splitting the data into training and testing sets##\n",
    "#print(len(train_test_split(X,Y,))) #will take data and sample proportion as 33% as test and 66% training\n",
    "#returns 4 because of 4 parts: split X and Y into 2 each\n",
    "\n",
    "X_train, X_test,Y_train,Y_test = train_test_split(X,Y)\n",
    "##Building the Decision Tree##\n",
    "from sklearn.metrics import accuracy_score\n",
    "\n",
    "#ensure we get consistent results across runs\n",
    "np.random.seed(4242)\n",
    "\n",
    "\n",
    "decision_clf = DecisionTreeClassifier(max_depth=5)\n",
    "decision_clf = decision_clf.fit(X_train, Y_train)\n",
    "\n",
    "#Give data to classifier so it can generate model. Test with our test data\n",
    "\n",
    "decision_predict = decision_clf.predict(X_test)\n",
    "\n",
    "print(accuracy_score(Y_test,decision_predict))\n",
    "\n"
   ]
  },
  {
   "cell_type": "code",
   "execution_count": null,
   "metadata": {},
   "outputs": [],
   "source": [
    "#10-fold cross validation\n",
    "decision_clf2 = DecisionTreeClassifier(max_depth = 5) #will different values for 'max_depth = ' as arg in DecisionTreeClassifier\n",
    "decision_clf2 = decision_clf2.fit(X_train, Y_train)\n",
    "\n",
    "cross_val_score(decision_clf2,X_train,Y_train,cv=10)"
   ]
  },
  {
   "cell_type": "code",
   "execution_count": null,
   "metadata": {
    "collapsed": true
   },
   "outputs": [],
   "source": [
    "import os\n",
    "import subprocess\n",
    "def visualize_tree(tree, feature_names):\n",
    "    \"\"\"Create tree png using graphviz.\n",
    "\n",
    "    Args\n",
    "    ----\n",
    "    tree -- scikit-learn DecsisionTree.\n",
    "    feature_names -- list of feature names.\n",
    "    \"\"\"\n",
    "    with open(\"dt.dot\", 'w') as f:\n",
    "        export_graphviz(tree, out_file=f,\n",
    "                        feature_names=feature_names)\n",
    "\n",
    "    command = [\"dot\", \"-Tpng\", \"dt.dot\", \"-o\", \"dt.png\"]\n",
    "    try:\n",
    "        subprocess.check_call(command)\n",
    "    except:\n",
    "        exit(\"Could not run dot, ie graphviz, to \"\n",
    "             \"produce visualization\")"
   ]
  },
  {
   "cell_type": "code",
   "execution_count": null,
   "metadata": {
    "collapsed": true
   },
   "outputs": [],
   "source": [
    "visualize_tree(decision_clf, chosenFeatures)"
   ]
  },
  {
   "cell_type": "code",
   "execution_count": null,
   "metadata": {},
   "outputs": [],
   "source": [
    "print(os.path)\n",
    "from graphviz import Digraph\n",
    "from sklearn.tree import export_graphviz\n",
    "import graphviz\n",
    "from sklearn.tree import export_graphviz\n",
    "import graphviz\n",
    "\n",
    "export_graphviz(decision_clf, out_file=\"mytree.dot\")\n",
    "with open(\"mytree.dot\") as f:\n",
    "    dot_graph = f.read()\n",
    "graphviz.Source(dot_graph)"
   ]
  },
  {
   "cell_type": "code",
   "execution_count": null,
   "metadata": {
    "collapsed": true
   },
   "outputs": [],
   "source": [
    "from sklearn import tree\n",
    "dotfile = open(\"D:/dtreeFINAL.dot\", 'w')\n",
    "dot_data = tree.export_graphviz(decision_clf, out_file=dotfile, feature_names=list(chosenFeatures), class_names=[\"Absent\", \"Non-Absent\"])\n",
    "graph = graphviz.Source(dot_data)  \n",
    "graph\n",
    "dotfile.close()"
   ]
  },
  {
   "cell_type": "code",
   "execution_count": null,
   "metadata": {
    "collapsed": true
   },
   "outputs": [],
   "source": []
  }
 ],
 "metadata": {
  "kernelspec": {
   "display_name": "Python 3",
   "language": "python",
   "name": "python3"
  },
  "language_info": {
   "codemirror_mode": {
    "name": "ipython",
    "version": 3
   },
   "file_extension": ".py",
   "mimetype": "text/x-python",
   "name": "python",
   "nbconvert_exporter": "python",
   "pygments_lexer": "ipython3",
   "version": "3.6.3"
  }
 },
 "nbformat": 4,
 "nbformat_minor": 2
}
